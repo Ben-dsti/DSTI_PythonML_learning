{
  "nbformat": 4,
  "nbformat_minor": 0,
  "metadata": {
    "colab": {
      "name": "Python_ML_Labs_Day1.ipynb",
      "provenance": [],
      "authorship_tag": "ABX9TyNDa3KqET7NlgR9OispI6Rn",
      "include_colab_link": true
    },
    "kernelspec": {
      "name": "python3",
      "display_name": "Python 3"
    },
    "language_info": {
      "name": "python"
    }
  },
  "cells": [
    {
      "cell_type": "markdown",
      "metadata": {
        "id": "view-in-github",
        "colab_type": "text"
      },
      "source": [
        "<a href=\"https://colab.research.google.com/github/Ben-dsti/DSTI_PythonML_learning/blob/main/Python_ML_Labs_Day1.ipynb\" target=\"_parent\"><img src=\"https://colab.research.google.com/assets/colab-badge.svg\" alt=\"Open In Colab\"/></a>"
      ]
    },
    {
      "cell_type": "code",
      "metadata": {
        "id": "kT-DU8sELyZr"
      },
      "source": [
        "# First exercice\n"
      ],
      "execution_count": 1,
      "outputs": []
    },
    {
      "cell_type": "markdown",
      "metadata": {
        "id": "LbSQ0SX8M_yz"
      },
      "source": [
        "#Header 1"
      ]
    },
    {
      "cell_type": "markdown",
      "metadata": {
        "id": "TMCkhP7GNN9S"
      },
      "source": [
        "## Header 2\n",
        "\n"
      ]
    },
    {
      "cell_type": "markdown",
      "metadata": {
        "id": "hUcZCUu7NSaO"
      },
      "source": [
        "###Header 3\n",
        "\n"
      ]
    },
    {
      "cell_type": "code",
      "metadata": {
        "colab": {
          "base_uri": "https://localhost:8080/"
        },
        "id": "nSIesMHeNYbV",
        "outputId": "77111ffc-505d-4638-aa73-9cdf67394fbf"
      },
      "source": [
        "from google.colab import drive\n",
        "drive.mount(\"/content/drive/\")"
      ],
      "execution_count": 4,
      "outputs": [
        {
          "output_type": "stream",
          "name": "stdout",
          "text": [
            "Mounted at /content/drive/\n"
          ]
        }
      ]
    },
    {
      "cell_type": "code",
      "metadata": {
        "id": "uRamRWIWQHJY"
      },
      "source": [
        "# We are in bash language - case sensitive\n",
        "# Go into the folder where you want to list file\n",
        "!cd drive"
      ],
      "execution_count": 6,
      "outputs": []
    },
    {
      "cell_type": "code",
      "metadata": {
        "colab": {
          "base_uri": "https://localhost:8080/"
        },
        "id": "t2MkEwCaPBmV",
        "outputId": "96ce6582-1d15-4ad9-fb58-1d04758d1c47"
      },
      "source": [
        "# List all files in the folder\n",
        "!ls"
      ],
      "execution_count": 7,
      "outputs": [
        {
          "output_type": "stream",
          "name": "stdout",
          "text": [
            "drive  sample_data\n"
          ]
        }
      ]
    },
    {
      "cell_type": "code",
      "metadata": {
        "colab": {
          "base_uri": "https://localhost:8080/"
        },
        "id": "XhVwEHN-SdsC",
        "outputId": "8a6ffbf0-b4a6-4d72-e3c9-4f374b5c3e66"
      },
      "source": [
        "# check where we are\n",
        "!pwd"
      ],
      "execution_count": 9,
      "outputs": [
        {
          "output_type": "stream",
          "name": "stdout",
          "text": [
            "/content\n"
          ]
        }
      ]
    },
    {
      "cell_type": "code",
      "metadata": {
        "colab": {
          "base_uri": "https://localhost:8080/"
        },
        "id": "TS3_OXtUS7iI",
        "outputId": "9b7db157-de94-49a2-d912-1b38be4d5027"
      },
      "source": [
        "# list all folders in content\n",
        "ls /content"
      ],
      "execution_count": 10,
      "outputs": [
        {
          "output_type": "stream",
          "name": "stdout",
          "text": [
            "\u001b[0m\u001b[01;34mdrive\u001b[0m/  \u001b[01;34msample_data\u001b[0m/\n"
          ]
        }
      ]
    },
    {
      "cell_type": "code",
      "metadata": {
        "id": "wk79S9WfRSa1"
      },
      "source": [
        "#Go in MyDrive\n",
        "!cd /content/drive/MyDrive"
      ],
      "execution_count": 13,
      "outputs": []
    },
    {
      "cell_type": "code",
      "metadata": {
        "colab": {
          "base_uri": "https://localhost:8080/"
        },
        "id": "sHi6n8lYRwI7",
        "outputId": "4d455c94-07ad-42e7-ebee-df21f83e8af7"
      },
      "source": [
        "#check where we are\n",
        "!pwd"
      ],
      "execution_count": 14,
      "outputs": [
        {
          "output_type": "stream",
          "name": "stdout",
          "text": [
            "/content\n"
          ]
        }
      ]
    },
    {
      "cell_type": "code",
      "metadata": {
        "colab": {
          "base_uri": "https://localhost:8080/"
        },
        "id": "fkj5rKlHTTBc",
        "outputId": "d34ca85f-6e09-4f06-ec89-0e9dde7be633"
      },
      "source": [
        "#list of all files in MyDrive\n",
        "!ls /content/drive/MyDrive"
      ],
      "execution_count": 15,
      "outputs": [
        {
          "output_type": "stream",
          "name": "stdout",
          "text": [
            " 1.jpeg\n",
            "'2014 Highlights'\n",
            " 20170213_075634_resized.jpg\n",
            "'2019 Jul Veolia eau contrat.pdf'\n",
            "'5 Webster St #0.gmap'\n",
            "'Back-up disco duro 2012-07'\n",
            "'Ben Carte ID Nouvelle.pdf'\n",
            "'Colab Notebooks'\n",
            "'Contrat loc andernos rodrigez aout 2015 du 9 au 16.odt'\n",
            "'Contrat loc andernos rodrigez aout 2015 du 9 au 16.odt.gdoc'\n",
            "'EXCEL EURO 2016 - Fill in Name - City - Champion - Max stricker - Groups Scores.xlsx'\n",
            "'EXCEL EURO 2016 - Fill in Name - City - Champion - Max stricker - Groups Scores.xlsx.gsheet'\n",
            "'histoire la renaissance documents.pdf'\n",
            "'House hunting.gmap'\n",
            " Inv_20153343_from_International_School_of_Boston_16060.pdf\n",
            "'Movie Astrid Ben.mp4'\n",
            "'Slide1 (1).jpg'\n",
            "'Slide1 (2).jpg'\n",
            " Slide1.jpg\n",
            " Slide4.jpg\n",
            " synch\n",
            "'Valerie coach'\n"
          ]
        }
      ]
    },
    {
      "cell_type": "code",
      "metadata": {
        "id": "VDWMAxgPToCM"
      },
      "source": [
        "#try to delete a cell and recover it - ctrl m, then z (or go to Edit)\n"
      ],
      "execution_count": null,
      "outputs": []
    },
    {
      "cell_type": "code",
      "metadata": {
        "id": "ZAV8EKHTWKWg"
      },
      "source": [
        "#upload the iris data file in google drive - if uploaded in colab environment, files will disapear when environment is recycled"
      ],
      "execution_count": null,
      "outputs": []
    },
    {
      "cell_type": "code",
      "metadata": {
        "colab": {
          "base_uri": "https://localhost:8080/"
        },
        "id": "-uT5TqklXXEc",
        "outputId": "7618fce0-4bd4-4a7f-e794-22da3715a37a"
      },
      "source": [
        "#in order to download files directly in Colab, without dowloading them first on my computer\n",
        "!wget https://archive.ics.uci.edu/ml/machine-learning-databases/iris/iris.data"
      ],
      "execution_count": 16,
      "outputs": [
        {
          "output_type": "stream",
          "name": "stdout",
          "text": [
            "--2021-11-24 09:57:54--  https://archive.ics.uci.edu/ml/machine-learning-databases/iris/iris.data\n",
            "Resolving archive.ics.uci.edu (archive.ics.uci.edu)... 128.195.10.252\n",
            "Connecting to archive.ics.uci.edu (archive.ics.uci.edu)|128.195.10.252|:443... connected.\n",
            "HTTP request sent, awaiting response... 200 OK\n",
            "Length: 4551 (4.4K) [application/x-httpd-php]\n",
            "Saving to: ‘iris.data.1’\n",
            "\n",
            "iris.data.1         100%[===================>]   4.44K  --.-KB/s    in 0s      \n",
            "\n",
            "2021-11-24 09:57:55 (90.3 MB/s) - ‘iris.data.1’ saved [4551/4551]\n",
            "\n"
          ]
        }
      ]
    },
    {
      "cell_type": "code",
      "metadata": {
        "colab": {
          "base_uri": "https://localhost:8080/"
        },
        "id": "3a4JAkf8YV1R",
        "outputId": "9cd9f4a7-e2cd-4deb-a1bc-820f1cc2399f"
      },
      "source": [
        "#it worked, saved as 'iris.data.1' because we already have an 'iris.data' file\n",
        "!ls"
      ],
      "execution_count": 17,
      "outputs": [
        {
          "output_type": "stream",
          "name": "stdout",
          "text": [
            "drive  iris.data  iris.data.1  iris.names  sample_data\n"
          ]
        }
      ]
    },
    {
      "cell_type": "code",
      "metadata": {
        "id": "gqASbKJSZFRS"
      },
      "source": [
        "#copy file from local (sample_data) to MyDrive\n",
        "!mv iris.data /content/drive/MyDrive"
      ],
      "execution_count": 20,
      "outputs": []
    },
    {
      "cell_type": "code",
      "metadata": {
        "colab": {
          "base_uri": "https://localhost:8080/"
        },
        "id": "aOJO1-58ax1u",
        "outputId": "dba2b197-41ba-4861-b1b3-b1f7bd43fc35"
      },
      "source": [
        "#check the file has been moved to MyDrive\n",
        "!ls /content/drive/MyDrive"
      ],
      "execution_count": 21,
      "outputs": [
        {
          "output_type": "stream",
          "name": "stdout",
          "text": [
            " 1.jpeg\n",
            "'2014 Highlights'\n",
            " 20170213_075634_resized.jpg\n",
            "'2019 Jul Veolia eau contrat.pdf'\n",
            "'5 Webster St #0.gmap'\n",
            "'Back-up disco duro 2012-07'\n",
            "'Ben Carte ID Nouvelle.pdf'\n",
            "'Colab Notebooks'\n",
            "'Contrat loc andernos rodrigez aout 2015 du 9 au 16.odt'\n",
            "'Contrat loc andernos rodrigez aout 2015 du 9 au 16.odt.gdoc'\n",
            "'EXCEL EURO 2016 - Fill in Name - City - Champion - Max stricker - Groups Scores.xlsx'\n",
            "'EXCEL EURO 2016 - Fill in Name - City - Champion - Max stricker - Groups Scores.xlsx.gsheet'\n",
            "'histoire la renaissance documents.pdf'\n",
            "'House hunting.gmap'\n",
            " Inv_20153343_from_International_School_of_Boston_16060.pdf\n",
            " iris.data\n",
            "'Movie Astrid Ben.mp4'\n",
            "'Slide1 (1).jpg'\n",
            "'Slide1 (2).jpg'\n",
            " Slide1.jpg\n",
            " Slide4.jpg\n",
            " synch\n",
            "'Valerie coach'\n"
          ]
        }
      ]
    },
    {
      "cell_type": "code",
      "metadata": {
        "id": "fSb6P1NcbJgg"
      },
      "source": [
        "#put this file on GitHub"
      ],
      "execution_count": null,
      "outputs": []
    }
  ]
}