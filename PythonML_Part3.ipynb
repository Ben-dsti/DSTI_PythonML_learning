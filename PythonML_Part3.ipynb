{
  "nbformat": 4,
  "nbformat_minor": 0,
  "metadata": {
    "colab": {
      "name": "PythonML_Part3.ipynb",
      "provenance": [],
      "authorship_tag": "ABX9TyOP3QTiPcCW28vphx6/wkDv",
      "include_colab_link": true
    },
    "kernelspec": {
      "name": "python3",
      "display_name": "Python 3"
    },
    "language_info": {
      "name": "python"
    }
  },
  "cells": [
    {
      "cell_type": "markdown",
      "metadata": {
        "id": "view-in-github",
        "colab_type": "text"
      },
      "source": [
        "<a href=\"https://colab.research.google.com/github/Ben-dsti/DSTI_PythonML_learning/blob/main/PythonML_Part3.ipynb\" target=\"_parent\"><img src=\"https://colab.research.google.com/assets/colab-badge.svg\" alt=\"Open In Colab\"/></a>"
      ]
    },
    {
      "cell_type": "code",
      "metadata": {
        "colab": {
          "base_uri": "https://localhost:8080/"
        },
        "id": "vt8OMT0hAVal",
        "outputId": "15cfaad4-4bd1-4a91-ca32-ad1752133fc7"
      },
      "source": [
        "#Mount the drive \n",
        "#Mounting a filesystem simply means making the particular filesystem accessible at a certain point in the Linux directory tree.\n",
        "from google.colab import drive\n",
        "drive.mount (\"/content/drive/\")"
      ],
      "execution_count": 3,
      "outputs": [
        {
          "output_type": "stream",
          "name": "stdout",
          "text": [
            "Mounted at /content/drive/\n"
          ]
        }
      ]
    },
    {
      "cell_type": "code",
      "metadata": {
        "id": "vZTYJdTP8S-Y"
      },
      "source": [
        "#Write a function able to list the content of a folder and the number of jpeg images\n",
        "#os is a library with features to read/upload files\n",
        "#beware to write url with forward slash in linux instead of backlashimport os\n",
        "def folder_content_list (input_path):\n",
        "  '''\n",
        "  this function first lists all the elements in my folder, then return the length\n",
        "  '''\n",
        "  x = os.listdir(input_path)\n",
        "  y = len (input_path)\n",
        "  return y\n",
        "\n"
      ],
      "execution_count": 4,
      "outputs": []
    },
    {
      "cell_type": "code",
      "metadata": {
        "colab": {
          "base_uri": "https://localhost:8080/"
        },
        "id": "dC_WOuPi_Ihe",
        "outputId": "c52690bf-bc08-4c95-c8e6-7bd8e2ac1dec"
      },
      "source": [
        "path = \"/content/drive/MyDrive\"\n",
        "folder_content_list (path)"
      ],
      "execution_count": 5,
      "outputs": [
        {
          "output_type": "execute_result",
          "data": {
            "text/plain": [
              "22"
            ]
          },
          "metadata": {},
          "execution_count": 5
        }
      ]
    },
    {
      "cell_type": "markdown",
      "metadata": {
        "id": "_abaJ9OiB7C8"
      },
      "source": [
        "##Are there really 22 files?\n"
      ]
    },
    {
      "cell_type": "code",
      "metadata": {
        "id": "NydlSVkeAOGU"
      },
      "source": [
        "#updated function to return the list of elements in the folder\n",
        "def folder_content_list_2 (input_path):\n",
        "  '''\n",
        "  this function first lists all the elements in my folder, \n",
        "  then return the length of the list and the list\n",
        "  '''\n",
        "  x = os.listdir(input_path)\n",
        "  y = len (input_path)\n",
        "  return y,x"
      ],
      "execution_count": 6,
      "outputs": []
    },
    {
      "cell_type": "code",
      "metadata": {
        "colab": {
          "base_uri": "https://localhost:8080/"
        },
        "id": "zObr94ByCPP4",
        "outputId": "1bc8339d-d2b5-498e-bf74-8a57b4e74c46"
      },
      "source": [
        "folder_content_list_2 (path)"
      ],
      "execution_count": 7,
      "outputs": [
        {
          "output_type": "execute_result",
          "data": {
            "text/plain": [
              "(22,\n",
              " ['synch',\n",
              "  'Back-up disco duro 2012-07',\n",
              "  '2014 Highlights',\n",
              "  'Contrat loc andernos rodrigez aout 2015 du 9 au 16.odt',\n",
              "  'Contrat loc andernos rodrigez aout 2015 du 9 au 16.odt.gdoc',\n",
              "  'Inv_20153343_from_International_School_of_Boston_16060.pdf',\n",
              "  '5 Webster St #0.gmap',\n",
              "  'House hunting.gmap',\n",
              "  'Movie Astrid Ben.mp4',\n",
              "  'Slide4.jpg',\n",
              "  'Slide1 (2).jpg',\n",
              "  'EXCEL EURO 2016 - Fill in Name - City - Champion - Max stricker - Groups Scores.xlsx',\n",
              "  'EXCEL EURO 2016 - Fill in Name - City - Champion - Max stricker - Groups Scores.xlsx.gsheet',\n",
              "  'Slide1 (1).jpg',\n",
              "  'Slide1.jpg',\n",
              "  '1.jpeg',\n",
              "  '20170213_075634_resized.jpg',\n",
              "  '2019 Jul Veolia eau contrat.pdf',\n",
              "  'Ben Carte ID Nouvelle.pdf',\n",
              "  'histoire la renaissance documents.pdf',\n",
              "  'Valerie coach',\n",
              "  'Colab Notebooks',\n",
              "  'iris.data'])"
            ]
          },
          "metadata": {},
          "execution_count": 7
        }
      ]
    },
    {
      "cell_type": "markdown",
      "metadata": {
        "id": "WQXGbYLjEzHe"
      },
      "source": [
        "## Function is returning files + folders together, not only files\n",
        "## We need to create a function with a condition"
      ]
    },
    {
      "cell_type": "code",
      "metadata": {
        "id": "qpiDgcElFFIh"
      },
      "source": [
        "#updated function to return the list of files (and only files) in the folder\n",
        "#absolute path vs. relative path \n",
        "#absolute path = /content/drive/MyDrive/iris.txt\n",
        "#os.path.isfile works on absolute path\n",
        "#os.path.join is rebuilding the absolute path\n",
        "\n",
        "def folder_content_list_3 (input_path):\n",
        "  '''\n",
        "  this function goes through my folder, \n",
        "  then check if it is a file\n",
        "  then return the list of files and length\n",
        "  '''\n",
        "  x = os.listdir(input_path)\n",
        " \n",
        "  file_list = []\n",
        "  for element in x:\n",
        "    if os.path.isfile (os.path.join(input_path,element)):\n",
        "      file_list.append (os.path.join(input_path,element))\n",
        "\n",
        "  y = len (file_list) \n",
        "  return y,file_list\n"
      ],
      "execution_count": 27,
      "outputs": []
    },
    {
      "cell_type": "code",
      "metadata": {
        "colab": {
          "base_uri": "https://localhost:8080/"
        },
        "id": "JFS8EnOpCUIX",
        "outputId": "8f7c2e5f-355f-4eff-cdcc-c712ee380610"
      },
      "source": [
        "folder_content_list_3 (path)"
      ],
      "execution_count": 28,
      "outputs": [
        {
          "output_type": "execute_result",
          "data": {
            "text/plain": [
              "(18,\n",
              " ['/content/drive/MyDrive/Contrat loc andernos rodrigez aout 2015 du 9 au 16.odt',\n",
              "  '/content/drive/MyDrive/Contrat loc andernos rodrigez aout 2015 du 9 au 16.odt.gdoc',\n",
              "  '/content/drive/MyDrive/Inv_20153343_from_International_School_of_Boston_16060.pdf',\n",
              "  '/content/drive/MyDrive/5 Webster St #0.gmap',\n",
              "  '/content/drive/MyDrive/House hunting.gmap',\n",
              "  '/content/drive/MyDrive/Movie Astrid Ben.mp4',\n",
              "  '/content/drive/MyDrive/Slide4.jpg',\n",
              "  '/content/drive/MyDrive/Slide1 (2).jpg',\n",
              "  '/content/drive/MyDrive/EXCEL EURO 2016 - Fill in Name - City - Champion - Max stricker - Groups Scores.xlsx',\n",
              "  '/content/drive/MyDrive/EXCEL EURO 2016 - Fill in Name - City - Champion - Max stricker - Groups Scores.xlsx.gsheet',\n",
              "  '/content/drive/MyDrive/Slide1 (1).jpg',\n",
              "  '/content/drive/MyDrive/Slide1.jpg',\n",
              "  '/content/drive/MyDrive/1.jpeg',\n",
              "  '/content/drive/MyDrive/20170213_075634_resized.jpg',\n",
              "  '/content/drive/MyDrive/2019 Jul Veolia eau contrat.pdf',\n",
              "  '/content/drive/MyDrive/Ben Carte ID Nouvelle.pdf',\n",
              "  '/content/drive/MyDrive/histoire la renaissance documents.pdf',\n",
              "  '/content/drive/MyDrive/iris.data'])"
            ]
          },
          "metadata": {},
          "execution_count": 28
        }
      ]
    },
    {
      "cell_type": "code",
      "metadata": {
        "id": "7kivybsJOxpF"
      },
      "source": [
        "# improving the previous function\n",
        "\n",
        "def folder_content_list_4 (input_path):\n",
        "  '''\n",
        "  this function goes through my folder, \n",
        "  then check if it is a file\n",
        "  then return the list of files and length\n",
        "  '''\n",
        "  #declare a variable with a list of all elements in my input_path\n",
        "  x = os.listdir(input_path)\n",
        "  #declare a variable  which is an empty list, to store the elements who are files\n",
        "  file_list = []\n",
        "  #start a for loop to iterate on elements in the list (relative path format)\n",
        "  for element in x:\n",
        "    #declare a variable storing the full path of my file\n",
        "    full_path_file = os.path.join(input_path,element)\n",
        "    #check if element (full path) is a file and then store elements which are files\n",
        "    if os.path.isfile (full_path_file):\n",
        "      file_list.append (full_path_file)\n",
        "\n",
        "  y = len (file_list) \n",
        "  return y,file_list"
      ],
      "execution_count": 29,
      "outputs": []
    },
    {
      "cell_type": "code",
      "metadata": {
        "colab": {
          "base_uri": "https://localhost:8080/"
        },
        "id": "OgPanmE6HyuG",
        "outputId": "ab45b073-1ad0-41cb-8300-6e4b0393491b"
      },
      "source": [
        "folder_content_list_4 (path)"
      ],
      "execution_count": 30,
      "outputs": [
        {
          "output_type": "execute_result",
          "data": {
            "text/plain": [
              "(18,\n",
              " ['/content/drive/MyDrive/Contrat loc andernos rodrigez aout 2015 du 9 au 16.odt',\n",
              "  '/content/drive/MyDrive/Contrat loc andernos rodrigez aout 2015 du 9 au 16.odt.gdoc',\n",
              "  '/content/drive/MyDrive/Inv_20153343_from_International_School_of_Boston_16060.pdf',\n",
              "  '/content/drive/MyDrive/5 Webster St #0.gmap',\n",
              "  '/content/drive/MyDrive/House hunting.gmap',\n",
              "  '/content/drive/MyDrive/Movie Astrid Ben.mp4',\n",
              "  '/content/drive/MyDrive/Slide4.jpg',\n",
              "  '/content/drive/MyDrive/Slide1 (2).jpg',\n",
              "  '/content/drive/MyDrive/EXCEL EURO 2016 - Fill in Name - City - Champion - Max stricker - Groups Scores.xlsx',\n",
              "  '/content/drive/MyDrive/EXCEL EURO 2016 - Fill in Name - City - Champion - Max stricker - Groups Scores.xlsx.gsheet',\n",
              "  '/content/drive/MyDrive/Slide1 (1).jpg',\n",
              "  '/content/drive/MyDrive/Slide1.jpg',\n",
              "  '/content/drive/MyDrive/1.jpeg',\n",
              "  '/content/drive/MyDrive/20170213_075634_resized.jpg',\n",
              "  '/content/drive/MyDrive/2019 Jul Veolia eau contrat.pdf',\n",
              "  '/content/drive/MyDrive/Ben Carte ID Nouvelle.pdf',\n",
              "  '/content/drive/MyDrive/histoire la renaissance documents.pdf',\n",
              "  '/content/drive/MyDrive/iris.data'])"
            ]
          },
          "metadata": {},
          "execution_count": 30
        }
      ]
    },
    {
      "cell_type": "markdown",
      "metadata": {
        "id": "em9-_WCVQ5gl"
      },
      "source": [
        "## Now let's list only specific files (ex: jpg to get images)"
      ]
    },
    {
      "cell_type": "code",
      "metadata": {
        "id": "fWtAl4bcQz8l"
      },
      "source": [
        "# improving the previous function\n",
        "\n",
        "def folder_content_list_jpg (input_path):\n",
        "  '''\n",
        "  this function goes through my folder, \n",
        "  then check if it is a file.jpg\n",
        "  then return the list of files and length\n",
        "  '''\n",
        "  #declare a variable with a list of all elements in my input_path\n",
        "  x = os.listdir(input_path)\n",
        "  #declare a variable  which is an empty list, to store the elements who are files\n",
        "  file_list = []\n",
        "  #start a for loop to iterate on elements in the list (relative path format)\n",
        "  for element in x:\n",
        "    #declare a variable storing the full path of my file\n",
        "    full_path_file = os.path.join(input_path,element)\n",
        "    #check if element (full path) is a file\n",
        "    if os.path.isfile (full_path_file):\n",
        "      #check if file ends with .jpg,converting to lower case to avoid case sensitivity\n",
        "      if full_path_file.lower().endswith('.jpg'):\n",
        "        #append to the list if file.jpg\n",
        "        file_list.append (full_path_file)\n",
        "\n",
        "  y = len (file_list) \n",
        "  return y,file_list"
      ],
      "execution_count": 36,
      "outputs": []
    },
    {
      "cell_type": "code",
      "metadata": {
        "colab": {
          "base_uri": "https://localhost:8080/"
        },
        "id": "ooFI1UPjSmpG",
        "outputId": "9ee1daf9-511e-4c7e-8b9e-c013983d723d"
      },
      "source": [
        "folder_content_list_jpg (path)"
      ],
      "execution_count": 37,
      "outputs": [
        {
          "output_type": "execute_result",
          "data": {
            "text/plain": [
              "(5,\n",
              " ['/content/drive/MyDrive/Slide4.jpg',\n",
              "  '/content/drive/MyDrive/Slide1 (2).jpg',\n",
              "  '/content/drive/MyDrive/Slide1 (1).jpg',\n",
              "  '/content/drive/MyDrive/Slide1.jpg',\n",
              "  '/content/drive/MyDrive/20170213_075634_resized.jpg'])"
            ]
          },
          "metadata": {},
          "execution_count": 37
        }
      ]
    },
    {
      "cell_type": "code",
      "metadata": {
        "id": "sEtUqh5iTiG3"
      },
      "source": [
        ""
      ],
      "execution_count": null,
      "outputs": []
    }
  ]
}