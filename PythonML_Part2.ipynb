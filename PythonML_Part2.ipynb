{
  "nbformat": 4,
  "nbformat_minor": 0,
  "metadata": {
    "colab": {
      "name": "PythonML_Part2.ipynb",
      "provenance": [],
      "authorship_tag": "ABX9TyPM6d7+cmUtqRLOUeaq3+I1",
      "include_colab_link": true
    },
    "kernelspec": {
      "name": "python3",
      "display_name": "Python 3"
    },
    "language_info": {
      "name": "python"
    }
  },
  "cells": [
    {
      "cell_type": "markdown",
      "metadata": {
        "id": "view-in-github",
        "colab_type": "text"
      },
      "source": [
        "<a href=\"https://colab.research.google.com/github/Ben-dsti/DSTI_PythonML_learning/blob/main/PythonML_Part2.ipynb\" target=\"_parent\"><img src=\"https://colab.research.google.com/assets/colab-badge.svg\" alt=\"Open In Colab\"/></a>"
      ]
    },
    {
      "cell_type": "markdown",
      "metadata": {
        "id": "Yb2FX6zegP4l"
      },
      "source": [
        ""
      ]
    },
    {
      "cell_type": "code",
      "metadata": {
        "id": "1I-lCFMPgPQ3"
      },
      "source": [
        "# Clone File from Stephan GitHub, copying the URL "
      ],
      "execution_count": null,
      "outputs": []
    },
    {
      "cell_type": "code",
      "metadata": {
        "colab": {
          "base_uri": "https://localhost:8080/"
        },
        "id": "cnZHtCqrfczE",
        "outputId": "30157014-d663-4fa4-d706-a9498ee9d08c"
      },
      "source": [
        "!git clone https://github.com/SteBaum/First_Colab_saving.git"
      ],
      "execution_count": 3,
      "outputs": [
        {
          "output_type": "stream",
          "name": "stdout",
          "text": [
            "Cloning into 'First_Colab_saving'...\n",
            "remote: Enumerating objects: 6, done.\u001b[K\n",
            "remote: Counting objects: 100% (6/6), done.\u001b[K\n",
            "remote: Compressing objects: 100% (4/4), done.\u001b[K\n",
            "remote: Total 6 (delta 0), reused 0 (delta 0), pack-reused 0\u001b[K\n",
            "Unpacking objects: 100% (6/6), done.\n"
          ]
        }
      ]
    },
    {
      "cell_type": "markdown",
      "metadata": {
        "id": "Ck34sw6ChHOE"
      },
      "source": [
        "#Variables and functions in Python"
      ]
    },
    {
      "cell_type": "markdown",
      "metadata": {
        "id": "XBQogl7KjZh8"
      },
      "source": [
        "## you can use latex formula $\\mathbb{N}$\n"
      ]
    },
    {
      "cell_type": "code",
      "metadata": {
        "colab": {
          "base_uri": "https://localhost:8080/"
        },
        "id": "0mV1GcpZf4GG",
        "outputId": "aae1c564-9e28-4254-e4da-9c35236e6be0"
      },
      "source": [
        "#It can be useful to check the type of an operation/variable\n",
        "#Ex: The type of an sum an integer (N) with a float (R)\n",
        "type (1 + 1.5)"
      ],
      "execution_count": 6,
      "outputs": [
        {
          "output_type": "execute_result",
          "data": {
            "text/plain": [
              "float"
            ]
          },
          "metadata": {},
          "execution_count": 6
        }
      ]
    },
    {
      "cell_type": "code",
      "metadata": {
        "colab": {
          "base_uri": "https://localhost:8080/",
          "height": 35
        },
        "id": "kEvykPuAj-4t",
        "outputId": "c833ba87-5854-484c-e190-ac43d5c3b02b"
      },
      "source": [
        "#Concatenate 2 strings\n",
        "'Paris' + ' ' + 'Nice'"
      ],
      "execution_count": 8,
      "outputs": [
        {
          "output_type": "execute_result",
          "data": {
            "application/vnd.google.colaboratory.intrinsic+json": {
              "type": "string"
            },
            "text/plain": [
              "'Paris Nice'"
            ]
          },
          "metadata": {},
          "execution_count": 8
        }
      ]
    },
    {
      "cell_type": "code",
      "metadata": {
        "colab": {
          "base_uri": "https://localhost:8080/",
          "height": 182
        },
        "id": "HXSicrUrkTgf",
        "outputId": "941d464a-2288-4906-84c4-8f770da74467"
      },
      "source": [
        "#Concatenate a string and a number - not possible, unless you convert the number in string '4'\n",
        "4 + 'pies'"
      ],
      "execution_count": 9,
      "outputs": [
        {
          "output_type": "error",
          "ename": "TypeError",
          "evalue": "ignored",
          "traceback": [
            "\u001b[0;31m---------------------------------------------------------------------------\u001b[0m",
            "\u001b[0;31mTypeError\u001b[0m                                 Traceback (most recent call last)",
            "\u001b[0;32m<ipython-input-9-fc3157be2e5a>\u001b[0m in \u001b[0;36m<module>\u001b[0;34m()\u001b[0m\n\u001b[1;32m      1\u001b[0m \u001b[0;31m#Concatenate a string and a number\u001b[0m\u001b[0;34m\u001b[0m\u001b[0;34m\u001b[0m\u001b[0;34m\u001b[0m\u001b[0m\n\u001b[0;32m----> 2\u001b[0;31m \u001b[0;36m4\u001b[0m \u001b[0;34m+\u001b[0m \u001b[0;34m'pies'\u001b[0m\u001b[0;34m\u001b[0m\u001b[0;34m\u001b[0m\u001b[0m\n\u001b[0m",
            "\u001b[0;31mTypeError\u001b[0m: unsupported operand type(s) for +: 'int' and 'str'"
          ]
        }
      ]
    },
    {
      "cell_type": "code",
      "metadata": {
        "colab": {
          "base_uri": "https://localhost:8080/",
          "height": 35
        },
        "id": "5CgXrUOYk0Nc",
        "outputId": "affa4511-2715-4244-a9e4-403a93187edc"
      },
      "source": [
        "#concatenate strings and numbers - str.format \n",
        "name = 'bob'\n",
        "age = '20'\n",
        "\"Hello {}, you are {}\".format(name,age)"
      ],
      "execution_count": 10,
      "outputs": [
        {
          "output_type": "execute_result",
          "data": {
            "application/vnd.google.colaboratory.intrinsic+json": {
              "type": "string"
            },
            "text/plain": [
              "'Hello bob, you are 20'"
            ]
          },
          "metadata": {},
          "execution_count": 10
        }
      ]
    },
    {
      "cell_type": "code",
      "metadata": {
        "colab": {
          "base_uri": "https://localhost:8080/",
          "height": 35
        },
        "id": "WfxFKGNBmSR2",
        "outputId": "f88e1277-8b5c-48b6-95c1-05153425355c"
      },
      "source": [
        "#or even better with the f string\n",
        "f\"Hello  {name}, you are {age}\""
      ],
      "execution_count": 11,
      "outputs": [
        {
          "output_type": "execute_result",
          "data": {
            "application/vnd.google.colaboratory.intrinsic+json": {
              "type": "string"
            },
            "text/plain": [
              "'Hello  bob, you are 20'"
            ]
          },
          "metadata": {},
          "execution_count": 11
        }
      ]
    },
    {
      "cell_type": "code",
      "metadata": {
        "colab": {
          "base_uri": "https://localhost:8080/",
          "height": 35
        },
        "id": "Rn3y4cK8m5Fc",
        "outputId": "45dcea99-c793-42e8-f852-f800ce655efc"
      },
      "source": [
        "#Multiply a string with a number\n",
        "5 * 'n'"
      ],
      "execution_count": 15,
      "outputs": [
        {
          "output_type": "execute_result",
          "data": {
            "application/vnd.google.colaboratory.intrinsic+json": {
              "type": "string"
            },
            "text/plain": [
              "'nnnnn'"
            ]
          },
          "metadata": {},
          "execution_count": 15
        }
      ]
    },
    {
      "cell_type": "code",
      "metadata": {
        "id": "d7kb5P3_njAF"
      },
      "source": [
        "#Function to concatenate numbers\n",
        "#Transform both variables in string before adding them\n",
        "def concatenate_str_number (my_str,my_num):\n",
        "  x = str(my_str)\n",
        "  y = str(my_num)\n",
        "  return x + y"
      ],
      "execution_count": 26,
      "outputs": []
    },
    {
      "cell_type": "code",
      "metadata": {
        "colab": {
          "base_uri": "https://localhost:8080/",
          "height": 35
        },
        "id": "z9a6dLXUpFF4",
        "outputId": "6b4f6621-ccd8-4cd4-f4ae-a3b7c2fbd37b"
      },
      "source": [
        "concatenate_str_number (name,age)"
      ],
      "execution_count": 27,
      "outputs": [
        {
          "output_type": "execute_result",
          "data": {
            "application/vnd.google.colaboratory.intrinsic+json": {
              "type": "string"
            },
            "text/plain": [
              "'bob20'"
            ]
          },
          "metadata": {},
          "execution_count": 27
        }
      ]
    },
    {
      "cell_type": "code",
      "metadata": {
        "id": "NJEWHvkfpmxW"
      },
      "source": [
        "#another option, but be careful there is a big difference between print and return\n",
        "#return will return a variable that you can re-use, while print will not \n",
        "def concat_number(a,b):\n",
        "  print('{}{}'.format(a,b))\n"
      ],
      "execution_count": 24,
      "outputs": []
    },
    {
      "cell_type": "code",
      "metadata": {
        "colab": {
          "base_uri": "https://localhost:8080/"
        },
        "id": "209l_Psxpr6e",
        "outputId": "81fc77f7-fdef-4feb-c926-fd3b7ffe1e5f"
      },
      "source": [
        "concat_number ('f',20)\n"
      ],
      "execution_count": 25,
      "outputs": [
        {
          "output_type": "stream",
          "name": "stdout",
          "text": [
            "f20\n"
          ]
        }
      ]
    },
    {
      "cell_type": "markdown",
      "metadata": {
        "id": "UmVlvM_jgN8t"
      },
      "source": [
        ""
      ]
    }
  ]
}