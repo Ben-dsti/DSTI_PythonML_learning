{
  "nbformat": 4,
  "nbformat_minor": 0,
  "metadata": {
    "colab": {
      "name": "PythonML_Day2_Part1.ipynb",
      "provenance": [],
      "collapsed_sections": [],
      "authorship_tag": "ABX9TyOZDb8I2FaAYfQ8mCgW+SBU",
      "include_colab_link": true
    },
    "kernelspec": {
      "name": "python3",
      "display_name": "Python 3"
    },
    "language_info": {
      "name": "python"
    }
  },
  "cells": [
    {
      "cell_type": "markdown",
      "metadata": {
        "id": "view-in-github",
        "colab_type": "text"
      },
      "source": [
        "<a href=\"https://colab.research.google.com/github/Ben-dsti/DSTI_PythonML_learning/blob/main/PythonML_Day2_Part1.ipynb\" target=\"_parent\"><img src=\"https://colab.research.google.com/assets/colab-badge.svg\" alt=\"Open In Colab\"/></a>"
      ]
    },
    {
      "cell_type": "code",
      "metadata": {
        "colab": {
          "base_uri": "https://localhost:8080/"
        },
        "id": "1IErVbz_UI7x",
        "outputId": "a63ec1c0-16eb-432b-9322-be478db3326f"
      },
      "source": [
        "from google.colab import drive\n",
        "drive.mount (\"/content/drive/\")"
      ],
      "execution_count": 1,
      "outputs": [
        {
          "output_type": "stream",
          "name": "stdout",
          "text": [
            "Mounted at /content/drive/\n"
          ]
        }
      ]
    },
    {
      "cell_type": "code",
      "metadata": {
        "id": "TD6vv9jhUJ7B"
      },
      "source": [
        "#When we install packages in Colab, we can't use conda install (only xorking with Anaconda)"
      ],
      "execution_count": 2,
      "outputs": []
    },
    {
      "cell_type": "code",
      "metadata": {
        "id": "-9vu-UpHWTDJ"
      },
      "source": [
        "#read lines in a file\n",
        "def print_content (my_path,my_option):\n",
        "  \"\"\"\n",
        "  Function to read a file and return its content either in bulk or line by line\n",
        "  Parameter B for bulk, L for line - by default  Line\n",
        "  \"\"\"\n",
        "  #open the file\n",
        "  f = open (my_path,'r')\n",
        "\n",
        "  #if B option selcted, print in bulk\n",
        "  if my_option == 'B':\n",
        "    file_content = f.read()\n",
        "  #if L option or someting else selected, print in lines\n",
        "  else:\n",
        "    file_content = f.readlines ()\n",
        "  \n",
        "  #Do not forget to close the file!\n",
        "  f.close()\n",
        "\n",
        "  return file_content"
      ],
      "execution_count": 19,
      "outputs": []
    },
    {
      "cell_type": "code",
      "metadata": {
        "colab": {
          "base_uri": "https://localhost:8080/"
        },
        "id": "dtwpeptrXtAT",
        "outputId": "1a3bcc5d-2d1e-443c-a782-a48e012c6884"
      },
      "source": [
        "print_content ('/content/Mary_lamb.txt','L')"
      ],
      "execution_count": 20,
      "outputs": [
        {
          "output_type": "execute_result",
          "data": {
            "text/plain": [
              "['Mary had a little lamb\\n',\n",
              " 'Mary had a little lamb 2\\n',\n",
              " 'Mary had a little lamb 3\\n',\n",
              " 'Mary had a little lamb 4']"
            ]
          },
          "metadata": {},
          "execution_count": 20
        }
      ]
    },
    {
      "cell_type": "code",
      "metadata": {
        "colab": {
          "base_uri": "https://localhost:8080/",
          "height": 35
        },
        "id": "kzfLK1ZlYcq7",
        "outputId": "41c8f65c-f323-4b4e-fb82-754a69402aab"
      },
      "source": [
        "print_content ('/content/Mary_lamb.txt','B')"
      ],
      "execution_count": 21,
      "outputs": [
        {
          "output_type": "execute_result",
          "data": {
            "application/vnd.google.colaboratory.intrinsic+json": {
              "type": "string"
            },
            "text/plain": [
              "'Mary had a little lamb\\nMary had a little lamb 2\\nMary had a little lamb 3\\nMary had a little lamb 4'"
            ]
          },
          "metadata": {},
          "execution_count": 21
        }
      ]
    },
    {
      "cell_type": "code",
      "metadata": {
        "id": "Bu9KV9xubOtO"
      },
      "source": [
        "#read lines in a file - different approach using \"with\"\n",
        "def print_content_try (my_path,my_option):\n",
        "  \"\"\"\n",
        "  Function to read a file and return its content either in bulk or line by line\n",
        "  Parameter B for bulk, L for line - by default  Line\n",
        "  \"\"\"\n",
        "  try:\n",
        "    with open(my_path,'r') as f: #using \"with\" closes file automatically after reading => good practice\n",
        "      if my_option == 'B':\n",
        "        contents = f.read()\n",
        "      else:\n",
        "        contents = f.readlines ()\n",
        "      return contents\n",
        "  except FileNotFoundError:\n",
        "    # if no valid file, return \"No file\" - we create a variable to save \"No file\", not only print it\n",
        "    contents = 'No file' \n",
        "    return contents\n",
        "    \n",
        "\n"
      ],
      "execution_count": 36,
      "outputs": []
    },
    {
      "cell_type": "code",
      "metadata": {
        "colab": {
          "base_uri": "https://localhost:8080/"
        },
        "id": "TOtCOtxmczkP",
        "outputId": "0328bd63-08a1-4318-8ff9-129431939b2f"
      },
      "source": [
        "#Valid file - it works\n",
        "my_path = '/content/Mary_lamb.txt'\n",
        "print_content_try (my_path,'L')"
      ],
      "execution_count": 39,
      "outputs": [
        {
          "output_type": "execute_result",
          "data": {
            "text/plain": [
              "['Mary had a little lamb\\n',\n",
              " 'Mary had a little lamb 2\\n',\n",
              " 'Mary had a little lamb 3\\n',\n",
              " 'Mary had a little lamb 4']"
            ]
          },
          "metadata": {},
          "execution_count": 39
        }
      ]
    },
    {
      "cell_type": "code",
      "metadata": {
        "colab": {
          "base_uri": "https://localhost:8080/",
          "height": 35
        },
        "id": "4_bcV_a6dWqS",
        "outputId": "4e4290ef-6bc6-470f-b44c-d9db6ec4ab32"
      },
      "source": [
        "#test the function when there is no valid file\n",
        "wrong_path = '/content/Mary.txt'\n",
        "print_content_try (wrong_path,'L')"
      ],
      "execution_count": 40,
      "outputs": [
        {
          "output_type": "execute_result",
          "data": {
            "application/vnd.google.colaboratory.intrinsic+json": {
              "type": "string"
            },
            "text/plain": [
              "'No file'"
            ]
          },
          "metadata": {},
          "execution_count": 40
        }
      ]
    },
    {
      "cell_type": "code",
      "metadata": {
        "id": "-5QYwPszeVOs"
      },
      "source": [
        "File_content = print_content_try (my_path,'L')"
      ],
      "execution_count": 41,
      "outputs": []
    },
    {
      "cell_type": "code",
      "metadata": {
        "colab": {
          "base_uri": "https://localhost:8080/"
        },
        "id": "O8HPOuWPhYY4",
        "outputId": "69919908-626a-4849-d77e-3d5e3d7cba3b"
      },
      "source": [
        "File_content"
      ],
      "execution_count": 42,
      "outputs": [
        {
          "output_type": "execute_result",
          "data": {
            "text/plain": [
              "['Mary had a little lamb\\n',\n",
              " 'Mary had a little lamb 2\\n',\n",
              " 'Mary had a little lamb 3\\n',\n",
              " 'Mary had a little lamb 4']"
            ]
          },
          "metadata": {},
          "execution_count": 42
        }
      ]
    },
    {
      "cell_type": "code",
      "metadata": {
        "id": "diYDue9_haT5"
      },
      "source": [
        "File_content_wrong = print_content_try (wrong_path,'L')"
      ],
      "execution_count": 43,
      "outputs": []
    },
    {
      "cell_type": "code",
      "metadata": {
        "colab": {
          "base_uri": "https://localhost:8080/",
          "height": 35
        },
        "id": "YmqOvCuRhhxj",
        "outputId": "5b902bfc-f0ff-403c-87b8-d4a0b18140c6"
      },
      "source": [
        "File_content_wrong"
      ],
      "execution_count": 44,
      "outputs": [
        {
          "output_type": "execute_result",
          "data": {
            "application/vnd.google.colaboratory.intrinsic+json": {
              "type": "string"
            },
            "text/plain": [
              "'No file'"
            ]
          },
          "metadata": {},
          "execution_count": 44
        }
      ]
    },
    {
      "cell_type": "code",
      "metadata": {
        "id": "iDclW9-4hjve"
      },
      "source": [
        ""
      ],
      "execution_count": null,
      "outputs": []
    }
  ]
}