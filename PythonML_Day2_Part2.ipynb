{
  "nbformat": 4,
  "nbformat_minor": 0,
  "metadata": {
    "colab": {
      "name": "PythonML_Day2_Part2.ipynb",
      "provenance": [],
      "collapsed_sections": [],
      "authorship_tag": "ABX9TyPZt7ui4IX9eXQoZ+9TILkC",
      "include_colab_link": true
    },
    "kernelspec": {
      "name": "python3",
      "display_name": "Python 3"
    },
    "language_info": {
      "name": "python"
    }
  },
  "cells": [
    {
      "cell_type": "markdown",
      "metadata": {
        "id": "view-in-github",
        "colab_type": "text"
      },
      "source": [
        "<a href=\"https://colab.research.google.com/github/Ben-dsti/DSTI_PythonML_learning/blob/main/PythonML_Day2_Part2.ipynb\" target=\"_parent\"><img src=\"https://colab.research.google.com/assets/colab-badge.svg\" alt=\"Open In Colab\"/></a>"
      ]
    },
    {
      "cell_type": "code",
      "metadata": {
        "id": "M06qUl2hijDS"
      },
      "source": [
        "# we import the script file to work on it as a notebook\n",
        "# Once it is cleaned (ie without function calls)\n",
        "import functions"
      ],
      "execution_count": 7,
      "outputs": []
    },
    {
      "cell_type": "code",
      "metadata": {
        "colab": {
          "base_uri": "https://localhost:8080/"
        },
        "id": "7Lu4K50dl3dx",
        "outputId": "fd49e0f0-1fad-446e-cd7c-368f614cb5ac"
      },
      "source": [
        "ls"
      ],
      "execution_count": 8,
      "outputs": [
        {
          "output_type": "stream",
          "name": "stdout",
          "text": [
            "functions.py  \u001b[0m\u001b[01;34m__pycache__\u001b[0m/  \u001b[01;34msample_data\u001b[0m/  testfile.txt\n"
          ]
        }
      ]
    },
    {
      "cell_type": "code",
      "metadata": {
        "id": "EvriKvu4oiry"
      },
      "source": [
        "#We import the functions\n",
        "from functions import print_content01, print_content02, print_content03"
      ],
      "execution_count": 9,
      "outputs": []
    },
    {
      "cell_type": "code",
      "metadata": {
        "id": "Xd2bEYJppsDz"
      },
      "source": [
        "my_path = '/content/testfile.txt'\n",
        "res_1 = print_content01 (my_path,\"L\")\n",
        "res_2 = print_content02 (my_path,\"L\")\n",
        "res_3 = print_content03 (my_path,\"L\")"
      ],
      "execution_count": 12,
      "outputs": []
    },
    {
      "cell_type": "code",
      "metadata": {
        "colab": {
          "base_uri": "https://localhost:8080/"
        },
        "id": "xeUrYNsKqVqb",
        "outputId": "2e87b2e4-34b3-47a5-918a-850683acd552"
      },
      "source": [
        "res_1"
      ],
      "execution_count": 13,
      "outputs": [
        {
          "output_type": "execute_result",
          "data": {
            "text/plain": [
              "['mary had a little lamb\\n',\n",
              " 'its fleece was white as snow\\n',\n",
              " 'and everywhere that mary went\\n',\n",
              " 'the lamb was sure to go\\n',\n",
              " '(in fact, it was a real pain in the ass) ']"
            ]
          },
          "metadata": {},
          "execution_count": 13
        }
      ]
    },
    {
      "cell_type": "code",
      "metadata": {
        "colab": {
          "base_uri": "https://localhost:8080/",
          "height": 53
        },
        "id": "VgKeWysDq12M",
        "outputId": "0ab9475c-17ad-46f3-8592-849df42ed971"
      },
      "source": [
        "res_2"
      ],
      "execution_count": 14,
      "outputs": [
        {
          "output_type": "execute_result",
          "data": {
            "application/vnd.google.colaboratory.intrinsic+json": {
              "type": "string"
            },
            "text/plain": [
              "'mary had a little lamb\\nits fleece was white as snow\\nand everywhere that mary went\\nthe lamb was sure to go\\n(in fact, it was a real pain in the ass) '"
            ]
          },
          "metadata": {},
          "execution_count": 14
        }
      ]
    },
    {
      "cell_type": "code",
      "metadata": {
        "colab": {
          "base_uri": "https://localhost:8080/"
        },
        "id": "R2az4qMzq3JJ",
        "outputId": "aa08805d-1fe8-473d-8c73-c540651bdfb1"
      },
      "source": [
        "res_3"
      ],
      "execution_count": 15,
      "outputs": [
        {
          "output_type": "execute_result",
          "data": {
            "text/plain": [
              "['mary had a little lamb\\n',\n",
              " 'its fleece was white as snow\\n',\n",
              " 'and everywhere that mary went\\n',\n",
              " 'the lamb was sure to go\\n',\n",
              " '(in fact, it was a real pain in the ass) ']"
            ]
          },
          "metadata": {},
          "execution_count": 15
        }
      ]
    },
    {
      "cell_type": "code",
      "metadata": {
        "id": "WUgJcnWgq4Yr"
      },
      "source": [
        "#We could have imported the variables also (but I deleted them)\n",
        "#from functions import my_path, new_path"
      ],
      "execution_count": null,
      "outputs": []
    }
  ]
}