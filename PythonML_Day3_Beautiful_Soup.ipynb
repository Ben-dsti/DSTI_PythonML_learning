{
  "nbformat": 4,
  "nbformat_minor": 0,
  "metadata": {
    "colab": {
      "name": "PythonML_Day3_Beautiful_Soup.ipynb",
      "provenance": [],
      "collapsed_sections": [],
      "authorship_tag": "ABX9TyN8ynvw/dMiWJpVg2xQERgi",
      "include_colab_link": true
    },
    "kernelspec": {
      "name": "python3",
      "display_name": "Python 3"
    },
    "language_info": {
      "name": "python"
    }
  },
  "cells": [
    {
      "cell_type": "markdown",
      "metadata": {
        "id": "view-in-github",
        "colab_type": "text"
      },
      "source": [
        "<a href=\"https://colab.research.google.com/github/Ben-dsti/DSTI_PythonML_learning/blob/main/PythonML_Day3_Beautiful_Soup.ipynb\" target=\"_parent\"><img src=\"https://colab.research.google.com/assets/colab-badge.svg\" alt=\"Open In Colab\"/></a>"
      ]
    },
    {
      "cell_type": "code",
      "metadata": {
        "colab": {
          "base_uri": "https://localhost:8080/"
        },
        "id": "tdTfC68WHkto",
        "outputId": "51e70e3a-a45d-4572-ea62-b140ca7386ba"
      },
      "source": [
        "#Mount\n",
        "from google.colab import drive\n",
        "drive.mount('/content/drive')"
      ],
      "execution_count": 1,
      "outputs": [
        {
          "output_type": "stream",
          "name": "stdout",
          "text": [
            "Mounted at /content/drive\n"
          ]
        }
      ]
    },
    {
      "cell_type": "code",
      "metadata": {
        "colab": {
          "base_uri": "https://localhost:8080/"
        },
        "id": "rANtcVnYILiY",
        "outputId": "2f87bbb7-2fb3-473d-e9c0-440592b65283"
      },
      "source": [
        "#Install Beautiful Soup 4 library\n",
        "!pip install beautifulsoup4"
      ],
      "execution_count": 4,
      "outputs": [
        {
          "output_type": "stream",
          "name": "stdout",
          "text": [
            "Requirement already satisfied: beautifulsoup4 in /usr/local/lib/python3.7/dist-packages (4.6.3)\n"
          ]
        }
      ]
    },
    {
      "cell_type": "code",
      "metadata": {
        "id": "LUh7VecBIfyE"
      },
      "source": [
        "#Import the module bs4\n",
        "from bs4 import BeautifulSoup"
      ],
      "execution_count": 5,
      "outputs": []
    },
    {
      "cell_type": "code",
      "metadata": {
        "id": "YlJdEVGnI43K"
      },
      "source": [
        "#See if we can load a website directly in bs4\n",
        "url = 'https://realpython.github.io/fake-jobs/'\n",
        "\n",
        "with open (url) as fp:\n",
        "  soup = BeautifulSoup (fp)\n",
        "\n",
        "#It doesn'twork - open is to read a file, does not work with an url"
      ],
      "execution_count": null,
      "outputs": []
    },
    {
      "cell_type": "code",
      "metadata": {
        "id": "x2Iw0x9mNLck"
      },
      "source": [
        "#How can we display the content of the url\n",
        "#use the requests library to access website content through Python\n",
        "import requests\n",
        "\n",
        "url = 'https://realpython.github.io/fake-jobs/'\n",
        "page = requests.get(url)"
      ],
      "execution_count": 9,
      "outputs": []
    },
    {
      "cell_type": "code",
      "metadata": {
        "colab": {
          "base_uri": "https://localhost:8080/"
        },
        "id": "nmebXfgjNo6X",
        "outputId": "e1b55b13-6627-43b5-d8e6-546ba38dc1b0"
      },
      "source": [
        "print (page)\n",
        "#Response 200 means OK, the server of the url responded\n",
        "#Response 4XX mean KO\n",
        "#First step in web crawling: Make sure you can contact the server and get response 200"
      ],
      "execution_count": 8,
      "outputs": [
        {
          "output_type": "stream",
          "name": "stdout",
          "text": [
            "<Response [200]>\n"
          ]
        }
      ]
    },
    {
      "cell_type": "code",
      "metadata": {
        "colab": {
          "base_uri": "https://localhost:8080/"
        },
        "id": "xKJbt2BbO-p_",
        "outputId": "7e767fe0-f97f-4070-a354-34fcca8d4a66"
      },
      "source": [
        "#type of the url content will be a string\n",
        "type (page.text)"
      ],
      "execution_count": 12,
      "outputs": [
        {
          "output_type": "execute_result",
          "data": {
            "text/plain": [
              "str"
            ]
          },
          "metadata": {},
          "execution_count": 12
        }
      ]
    },
    {
      "cell_type": "code",
      "metadata": {
        "id": "MnU3ts5OOSHx"
      },
      "source": [
        "#Print the content of the page, structured by BS4\n",
        "#We are trying to find all the jobs posted on this web page\n",
        "#if the website is well designed (ie structured), it is easy to find the information\n",
        "print (page.text)"
      ],
      "execution_count": null,
      "outputs": []
    },
    {
      "cell_type": "code",
      "metadata": {
        "id": "grXRBKpEOj2H"
      },
      "source": [
        "#Now let's write a function for webcrawling\n",
        "#doc is here https://beautiful-soup-4.readthedocs.io/en/latest/#making-the-soup\n",
        "#1 Create the bs4 object\n",
        "soup = BeautifulSoup(page.text)"
      ],
      "execution_count": 14,
      "outputs": []
    },
    {
      "cell_type": "code",
      "metadata": {
        "id": "Q4mrHQIZQ7lw"
      },
      "source": [
        "#1 Test if we can retrieve all divs with soup.find.all()\n",
        "all_h2 = soup.find_all('h2')"
      ],
      "execution_count": 17,
      "outputs": []
    },
    {
      "cell_type": "code",
      "metadata": {
        "colab": {
          "base_uri": "https://localhost:8080/"
        },
        "id": "zkkJk9D7RMWg",
        "outputId": "e4c61776-a7eb-4c40-d867-fbcaf472fabd"
      },
      "source": [
        "#Let's see what we've received\n",
        "print (all_h2)\n",
        "\n",
        "#this methodreturned all tags we were lookinh for but in a list of strings"
      ],
      "execution_count": 18,
      "outputs": [
        {
          "output_type": "stream",
          "name": "stdout",
          "text": [
            "[<h2 class=\"title is-5\">Senior Python Developer</h2>, <h2 class=\"title is-5\">Energy engineer</h2>, <h2 class=\"title is-5\">Legal executive</h2>, <h2 class=\"title is-5\">Fitness centre manager</h2>, <h2 class=\"title is-5\">Product manager</h2>, <h2 class=\"title is-5\">Medical technical officer</h2>, <h2 class=\"title is-5\">Physiological scientist</h2>, <h2 class=\"title is-5\">Textile designer</h2>, <h2 class=\"title is-5\">Television floor manager</h2>, <h2 class=\"title is-5\">Waste management officer</h2>, <h2 class=\"title is-5\">Software Engineer (Python)</h2>, <h2 class=\"title is-5\">Interpreter</h2>, <h2 class=\"title is-5\">Architect</h2>, <h2 class=\"title is-5\">Meteorologist</h2>, <h2 class=\"title is-5\">Audiological scientist</h2>, <h2 class=\"title is-5\">English as a second language teacher</h2>, <h2 class=\"title is-5\">Surgeon</h2>, <h2 class=\"title is-5\">Equities trader</h2>, <h2 class=\"title is-5\">Newspaper journalist</h2>, <h2 class=\"title is-5\">Materials engineer</h2>, <h2 class=\"title is-5\">Python Programmer (Entry-Level)</h2>, <h2 class=\"title is-5\">Product/process development scientist</h2>, <h2 class=\"title is-5\">Scientist, research (maths)</h2>, <h2 class=\"title is-5\">Ecologist</h2>, <h2 class=\"title is-5\">Materials engineer</h2>, <h2 class=\"title is-5\">Historic buildings inspector/conservation officer</h2>, <h2 class=\"title is-5\">Data scientist</h2>, <h2 class=\"title is-5\">Psychiatrist</h2>, <h2 class=\"title is-5\">Structural engineer</h2>, <h2 class=\"title is-5\">Immigration officer</h2>, <h2 class=\"title is-5\">Python Programmer (Entry-Level)</h2>, <h2 class=\"title is-5\">Neurosurgeon</h2>, <h2 class=\"title is-5\">Broadcast engineer</h2>, <h2 class=\"title is-5\">Make</h2>, <h2 class=\"title is-5\">Nurse, adult</h2>, <h2 class=\"title is-5\">Air broker</h2>, <h2 class=\"title is-5\">Editor, film/video</h2>, <h2 class=\"title is-5\">Production assistant, radio</h2>, <h2 class=\"title is-5\">Engineer, communications</h2>, <h2 class=\"title is-5\">Sales executive</h2>, <h2 class=\"title is-5\">Software Developer (Python)</h2>, <h2 class=\"title is-5\">Futures trader</h2>, <h2 class=\"title is-5\">Tour manager</h2>, <h2 class=\"title is-5\">Cytogeneticist</h2>, <h2 class=\"title is-5\">Designer, multimedia</h2>, <h2 class=\"title is-5\">Trade union research officer</h2>, <h2 class=\"title is-5\">Chemist, analytical</h2>, <h2 class=\"title is-5\">Programmer, multimedia</h2>, <h2 class=\"title is-5\">Engineer, broadcasting (operations)</h2>, <h2 class=\"title is-5\">Teacher, primary school</h2>, <h2 class=\"title is-5\">Python Developer</h2>, <h2 class=\"title is-5\">Manufacturing systems engineer</h2>, <h2 class=\"title is-5\">Producer, television/film/video</h2>, <h2 class=\"title is-5\">Scientist, forensic</h2>, <h2 class=\"title is-5\">Bonds trader</h2>, <h2 class=\"title is-5\">Editorial assistant</h2>, <h2 class=\"title is-5\">Photographer</h2>, <h2 class=\"title is-5\">Retail banker</h2>, <h2 class=\"title is-5\">Jewellery designer</h2>, <h2 class=\"title is-5\">Ophthalmologist</h2>, <h2 class=\"title is-5\">Back-End Web Developer (Python, Django)</h2>, <h2 class=\"title is-5\">Licensed conveyancer</h2>, <h2 class=\"title is-5\">Futures trader</h2>, <h2 class=\"title is-5\">Counselling psychologist</h2>, <h2 class=\"title is-5\">Insurance underwriter</h2>, <h2 class=\"title is-5\">Engineer, automotive</h2>, <h2 class=\"title is-5\">Producer, radio</h2>, <h2 class=\"title is-5\">Dispensing optician</h2>, <h2 class=\"title is-5\">Designer, fashion/clothing</h2>, <h2 class=\"title is-5\">Chartered loss adjuster</h2>, <h2 class=\"title is-5\">Back-End Web Developer (Python, Django)</h2>, <h2 class=\"title is-5\">Forest/woodland manager</h2>, <h2 class=\"title is-5\">Clinical cytogeneticist</h2>, <h2 class=\"title is-5\">Print production planner</h2>, <h2 class=\"title is-5\">Systems developer</h2>, <h2 class=\"title is-5\">Graphic designer</h2>, <h2 class=\"title is-5\">Writer</h2>, <h2 class=\"title is-5\">Field seismologist</h2>, <h2 class=\"title is-5\">Chief Strategy Officer</h2>, <h2 class=\"title is-5\">Air cabin crew</h2>, <h2 class=\"title is-5\">Python Programmer (Entry-Level)</h2>, <h2 class=\"title is-5\">Warden/ranger</h2>, <h2 class=\"title is-5\">Sports therapist</h2>, <h2 class=\"title is-5\">Arts development officer</h2>, <h2 class=\"title is-5\">Printmaker</h2>, <h2 class=\"title is-5\">Health and safety adviser</h2>, <h2 class=\"title is-5\">Manufacturing systems engineer</h2>, <h2 class=\"title is-5\">Programmer, applications</h2>, <h2 class=\"title is-5\">Medical physicist</h2>, <h2 class=\"title is-5\">Media planner</h2>, <h2 class=\"title is-5\">Software Developer (Python)</h2>, <h2 class=\"title is-5\">Surveyor, land/geomatics</h2>, <h2 class=\"title is-5\">Legal executive</h2>, <h2 class=\"title is-5\">Librarian, academic</h2>, <h2 class=\"title is-5\">Barrister</h2>, <h2 class=\"title is-5\">Museum/gallery exhibitions officer</h2>, <h2 class=\"title is-5\">Radiographer, diagnostic</h2>, <h2 class=\"title is-5\">Database administrator</h2>, <h2 class=\"title is-5\">Furniture designer</h2>, <h2 class=\"title is-5\">Ship broker</h2>]\n"
          ]
        }
      ]
    },
    {
      "cell_type": "code",
      "metadata": {
        "colab": {
          "base_uri": "https://localhost:8080/"
        },
        "id": "B3iMc4G7SN3i",
        "outputId": "22a47891-82e7-4758-9e0c-ee285d6ec746"
      },
      "source": [
        "type (all_h2[1])\n",
        "print (len(all_h2))"
      ],
      "execution_count": 19,
      "outputs": [
        {
          "output_type": "stream",
          "name": "stdout",
          "text": [
            "100\n"
          ]
        }
      ]
    },
    {
      "cell_type": "code",
      "metadata": {
        "colab": {
          "base_uri": "https://localhost:8080/",
          "height": 35
        },
        "id": "Heti3CreSWeA",
        "outputId": "33cc01c2-f28e-4326-975f-2476234383e7"
      },
      "source": [
        "# testing if we can access the text in a tag with .string - success!\n",
        "all_h2[1].string"
      ],
      "execution_count": 20,
      "outputs": [
        {
          "output_type": "execute_result",
          "data": {
            "application/vnd.google.colaboratory.intrinsic+json": {
              "type": "string"
            },
            "text/plain": [
              "'Energy engineer'"
            ]
          },
          "metadata": {},
          "execution_count": 20
        }
      ]
    },
    {
      "cell_type": "code",
      "metadata": {
        "id": "C4ai0Me7TmY4"
      },
      "source": [
        "#Looping through all h2 elements in the website to extract the title\n",
        "for element in all_h2:\n",
        "  print (element.string)"
      ],
      "execution_count": null,
      "outputs": []
    },
    {
      "cell_type": "code",
      "metadata": {
        "id": "hX8hFUIpWmyT"
      },
      "source": [
        "#Function to retrieve a website returns it as bs4 object\n",
        "def read_in_website(url):\n",
        "  '''\n",
        "  Acceots an URL, retrieves a webpage and generates\n",
        "  a bs4 object. Requires the 'requests' module to work\n",
        "  '''\n",
        "  page = requests.get(url)\n",
        "  return Beautifulsoup(page.text)\n"
      ],
      "execution_count": 24,
      "outputs": []
    },
    {
      "cell_type": "code",
      "metadata": {
        "colab": {
          "base_uri": "https://localhost:8080/",
          "height": 270
        },
        "id": "DcthZ1EgXghZ",
        "outputId": "8dcacf55-41b6-4244-a6c7-11bd4fed619a"
      },
      "source": [
        "#Testing the read-in function\n",
        "my_url = read_in_website(url)"
      ],
      "execution_count": 25,
      "outputs": [
        {
          "output_type": "error",
          "ename": "NameError",
          "evalue": "ignored",
          "traceback": [
            "\u001b[0;31m---------------------------------------------------------------------------\u001b[0m",
            "\u001b[0;31mNameError\u001b[0m                                 Traceback (most recent call last)",
            "\u001b[0;32m<ipython-input-25-52cc57980abe>\u001b[0m in \u001b[0;36m<module>\u001b[0;34m()\u001b[0m\n\u001b[1;32m      1\u001b[0m \u001b[0;31m#Testing the read-in function\u001b[0m\u001b[0;34m\u001b[0m\u001b[0;34m\u001b[0m\u001b[0;34m\u001b[0m\u001b[0m\n\u001b[0;32m----> 2\u001b[0;31m \u001b[0mmy_url\u001b[0m \u001b[0;34m=\u001b[0m \u001b[0mread_in_website\u001b[0m\u001b[0;34m(\u001b[0m\u001b[0murl\u001b[0m\u001b[0;34m)\u001b[0m\u001b[0;34m\u001b[0m\u001b[0;34m\u001b[0m\u001b[0m\n\u001b[0m",
            "\u001b[0;32m<ipython-input-24-7a237a72d3f7>\u001b[0m in \u001b[0;36mread_in_website\u001b[0;34m(url)\u001b[0m\n\u001b[1;32m      6\u001b[0m   '''\n\u001b[1;32m      7\u001b[0m   \u001b[0mpage\u001b[0m \u001b[0;34m=\u001b[0m \u001b[0mrequests\u001b[0m\u001b[0;34m.\u001b[0m\u001b[0mget\u001b[0m\u001b[0;34m(\u001b[0m\u001b[0murl\u001b[0m\u001b[0;34m)\u001b[0m\u001b[0;34m\u001b[0m\u001b[0;34m\u001b[0m\u001b[0m\n\u001b[0;32m----> 8\u001b[0;31m   \u001b[0;32mreturn\u001b[0m \u001b[0mBeautifulsoup\u001b[0m\u001b[0;34m(\u001b[0m\u001b[0mpage\u001b[0m\u001b[0;34m.\u001b[0m\u001b[0mtext\u001b[0m\u001b[0;34m)\u001b[0m\u001b[0;34m\u001b[0m\u001b[0;34m\u001b[0m\u001b[0m\n\u001b[0m",
            "\u001b[0;31mNameError\u001b[0m: name 'Beautifulsoup' is not defined"
          ]
        }
      ]
    },
    {
      "cell_type": "code",
      "metadata": {
        "id": "NpA6tcHyT2pk"
      },
      "source": [
        "def extract_text(result_set):\n",
        "  '''\n",
        "  Accepts a bs4 Resultste and extracts text from each tag\n",
        "  Returns a list of navigable string objects\n",
        "  '''\n",
        "  return [element.string for element in result_set]\n"
      ],
      "execution_count": 23,
      "outputs": []
    },
    {
      "cell_type": "code",
      "metadata": {
        "id": "Nacu9CsvV6tW"
      },
      "source": [
        "#Testing the function\n",
        "all_jobs = extract_text (all_h2)\n"
      ],
      "execution_count": null,
      "outputs": []
    }
  ]
}